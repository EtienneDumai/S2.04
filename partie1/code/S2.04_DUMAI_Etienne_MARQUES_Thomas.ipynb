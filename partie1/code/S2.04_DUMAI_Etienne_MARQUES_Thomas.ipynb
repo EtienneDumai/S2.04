{
 "cells": [
  {
   "cell_type": "code",
   "execution_count": null,
   "id": "73fab038-aeeb-4fd1-8b74-fef0d5da9944",
   "metadata": {},
   "outputs": [],
   "source": [
    "Importation des données"
   ]
  },
  {
   "cell_type": "code",
   "execution_count": 2,
   "id": "e90bdfa9-26cc-404d-b363-195f6e1cccca",
   "metadata": {},
   "outputs": [],
   "source": [
    "import pandas as pd\n",
    "import os\n",
    "import numpy as np\n",
    "os.chdir('C:\\\\Cours\\\\1EreAnnee\\\\2EmeSemestre\\\\S2.04\\\\neuil')\n",
    "reviews=pd.read_table('reviews.csv',sep=\";\", index_col=0, encoding='ANSI')\n",
    "hotes=pd.read_table('hotes.csv',sep=\";\", index_col=0, encoding='ANSI')\n",
    "logements=pd.read_table('logements.csv',sep=\";\", index_col=0, encoding='ANSI')   \n",
    "capb_communes=pd.read_table('capb-communes-poles.csv',sep=\";\", index_col=0, encoding='ANSI')\n"
   ]
  },
  {
   "cell_type": "markdown",
   "id": "b998a12b-08a8-4fa4-a6bf-abad7c53076c",
   "metadata": {},
   "source": [
    "Questions que l'ont s'est posées :\n",
    "\n",
    "Quelle est la distribution des logements entre les zones urbaines et rurales ?\n",
    "\n",
    "Quel est la gamme de prix des logements ?\n",
    "\n",
    "Quels sont les types de logements qui sont le plus présents ?\n",
    "\n",
    "Comment l'occupation varie t-elle au cours de l'année ?\n",
    "\n",
    "Quel est la durée des séjours ?\n",
    "\n",
    "Quels sont les caractéristiques des logements les plus communs ?\n",
    "\n",
    "Il y a t-il un impact sur le marché immobilie local\n",
    "\n",
    "Qui sont les hôtes des logements ?"
   ]
  },
  {
   "cell_type": "code",
   "execution_count": null,
   "id": "58c15402-00ed-4f07-90c8-85b8e4e40e67",
   "metadata": {},
   "outputs": [],
   "source": [
    "logements.columns\n",
    "hotes.columns\n",
    "print(logements.head())\n",
    "logt_prix=logements['logt_prix'].describe()\n",
    "print(\"\\logt_prix :\\n\", logt_prix)"
   ]
  }
 ],
 "metadata": {
  "kernelspec": {
   "display_name": "Python 3 (Spyder)",
   "language": "python3",
   "name": "python3"
  },
  "language_info": {
   "codemirror_mode": {
    "name": "ipython",
    "version": 3
   },
   "file_extension": ".py",
   "mimetype": "text/x-python",
   "name": "python",
   "nbconvert_exporter": "python",
   "pygments_lexer": "ipython3",
   "version": "3.8.10"
  }
 },
 "nbformat": 4,
 "nbformat_minor": 5
}
